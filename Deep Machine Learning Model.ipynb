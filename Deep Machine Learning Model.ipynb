{
 "cells": [
  {
   "cell_type": "code",
   "execution_count": 1,
   "metadata": {},
   "outputs": [],
   "source": [
    "# https://machinelearningmastery.com/multivariate-time-series-forecasting-lstms-keras/"
   ]
  },
  {
   "cell_type": "code",
   "execution_count": 2,
   "metadata": {},
   "outputs": [],
   "source": [
    "# work on incorporating lag somehow into the models\n",
    "import pandas as pd\n",
    "import matplotlib.pyplot as plt"
   ]
  },
  {
   "cell_type": "code",
   "execution_count": 196,
   "metadata": {},
   "outputs": [
    {
     "data": {
      "text/html": [
       "<div>\n",
       "<style scoped>\n",
       "    .dataframe tbody tr th:only-of-type {\n",
       "        vertical-align: middle;\n",
       "    }\n",
       "\n",
       "    .dataframe tbody tr th {\n",
       "        vertical-align: top;\n",
       "    }\n",
       "\n",
       "    .dataframe thead th {\n",
       "        text-align: right;\n",
       "    }\n",
       "</style>\n",
       "<table border=\"1\" class=\"dataframe\">\n",
       "  <thead>\n",
       "    <tr style=\"text-align: right;\">\n",
       "      <th></th>\n",
       "      <th>Temp interpolated</th>\n",
       "      <th>CO2 interpolated</th>\n",
       "      <th>N2O interpolated</th>\n",
       "      <th>Methane interpolated</th>\n",
       "    </tr>\n",
       "    <tr>\n",
       "      <th>Year (negative values = BC)</th>\n",
       "      <th></th>\n",
       "      <th></th>\n",
       "      <th></th>\n",
       "      <th></th>\n",
       "    </tr>\n",
       "  </thead>\n",
       "  <tbody>\n",
       "    <tr>\n",
       "      <th>1900</th>\n",
       "      <td>2.366667</td>\n",
       "      <td>296.700000</td>\n",
       "      <td>277.904348</td>\n",
       "      <td>862.400000</td>\n",
       "    </tr>\n",
       "    <tr>\n",
       "      <th>1901</th>\n",
       "      <td>2.030000</td>\n",
       "      <td>296.066667</td>\n",
       "      <td>278.169565</td>\n",
       "      <td>868.400000</td>\n",
       "    </tr>\n",
       "    <tr>\n",
       "      <th>1902</th>\n",
       "      <td>1.930000</td>\n",
       "      <td>295.433333</td>\n",
       "      <td>278.434783</td>\n",
       "      <td>871.672222</td>\n",
       "    </tr>\n",
       "    <tr>\n",
       "      <th>1903</th>\n",
       "      <td>1.840000</td>\n",
       "      <td>294.800000</td>\n",
       "      <td>278.700000</td>\n",
       "      <td>874.944444</td>\n",
       "    </tr>\n",
       "    <tr>\n",
       "      <th>1904</th>\n",
       "      <td>1.760000</td>\n",
       "      <td>296.175000</td>\n",
       "      <td>278.852941</td>\n",
       "      <td>878.216667</td>\n",
       "    </tr>\n",
       "  </tbody>\n",
       "</table>\n",
       "</div>"
      ],
      "text/plain": [
       "                             Temp interpolated  CO2 interpolated  \\\n",
       "Year (negative values = BC)                                        \n",
       "1900                                  2.366667        296.700000   \n",
       "1901                                  2.030000        296.066667   \n",
       "1902                                  1.930000        295.433333   \n",
       "1903                                  1.840000        294.800000   \n",
       "1904                                  1.760000        296.175000   \n",
       "\n",
       "                             N2O interpolated  Methane interpolated  \n",
       "Year (negative values = BC)                                          \n",
       "1900                               277.904348            862.400000  \n",
       "1901                               278.169565            868.400000  \n",
       "1902                               278.434783            871.672222  \n",
       "1903                               278.700000            874.944444  \n",
       "1904                               278.852941            878.216667  "
      ]
     },
     "execution_count": 196,
     "metadata": {},
     "output_type": "execute_result"
    }
   ],
   "source": [
    "dataset0 = pd.read_csv('dataset_interpolated.csv').set_index('Year (negative values = BC)')\n",
    "\n",
    "dataset = dataset0.drop(dataset0[dataset0.index < 1900].index)\n",
    "dataset.head()"
   ]
  },
  {
   "cell_type": "code",
   "execution_count": 197,
   "metadata": {},
   "outputs": [
    {
     "data": {
      "text/html": [
       "<div>\n",
       "<style scoped>\n",
       "    .dataframe tbody tr th:only-of-type {\n",
       "        vertical-align: middle;\n",
       "    }\n",
       "\n",
       "    .dataframe tbody tr th {\n",
       "        vertical-align: top;\n",
       "    }\n",
       "\n",
       "    .dataframe thead th {\n",
       "        text-align: right;\n",
       "    }\n",
       "</style>\n",
       "<table border=\"1\" class=\"dataframe\">\n",
       "  <thead>\n",
       "    <tr style=\"text-align: right;\">\n",
       "      <th></th>\n",
       "      <th>Temp interpolated</th>\n",
       "    </tr>\n",
       "  </thead>\n",
       "  <tbody>\n",
       "    <tr>\n",
       "      <th>Methane interpolated</th>\n",
       "      <td>0.880052</td>\n",
       "    </tr>\n",
       "    <tr>\n",
       "      <th>N2O interpolated</th>\n",
       "      <td>0.906921</td>\n",
       "    </tr>\n",
       "    <tr>\n",
       "      <th>CO2 interpolated</th>\n",
       "      <td>0.907414</td>\n",
       "    </tr>\n",
       "    <tr>\n",
       "      <th>Temp interpolated</th>\n",
       "      <td>1.000000</td>\n",
       "    </tr>\n",
       "  </tbody>\n",
       "</table>\n",
       "</div>"
      ],
      "text/plain": [
       "                      Temp interpolated\n",
       "Methane interpolated           0.880052\n",
       "N2O interpolated               0.906921\n",
       "CO2 interpolated               0.907414\n",
       "Temp interpolated              1.000000"
      ]
     },
     "execution_count": 197,
     "metadata": {},
     "output_type": "execute_result"
    }
   ],
   "source": [
    "# check the correlation between the features and the Temperature.  \n",
    "# The CO2 is the most correlated\n",
    "dataset.corr()[['Temp interpolated']].sort_values('Temp interpolated')"
   ]
  },
  {
   "cell_type": "code",
   "execution_count": 198,
   "metadata": {},
   "outputs": [
    {
     "data": {
      "text/html": [
       "<div>\n",
       "<style scoped>\n",
       "    .dataframe tbody tr th:only-of-type {\n",
       "        vertical-align: middle;\n",
       "    }\n",
       "\n",
       "    .dataframe tbody tr th {\n",
       "        vertical-align: top;\n",
       "    }\n",
       "\n",
       "    .dataframe thead th {\n",
       "        text-align: right;\n",
       "    }\n",
       "</style>\n",
       "<table border=\"1\" class=\"dataframe\">\n",
       "  <thead>\n",
       "    <tr style=\"text-align: right;\">\n",
       "      <th></th>\n",
       "      <th>Temp interpolated</th>\n",
       "      <th>CO2 interpolated</th>\n",
       "      <th>N2O interpolated</th>\n",
       "      <th>Methane interpolated</th>\n",
       "    </tr>\n",
       "    <tr>\n",
       "      <th>Year (negative values = BC)</th>\n",
       "      <th></th>\n",
       "      <th></th>\n",
       "      <th></th>\n",
       "      <th></th>\n",
       "    </tr>\n",
       "  </thead>\n",
       "  <tbody>\n",
       "    <tr>\n",
       "      <th>1900</th>\n",
       "      <td>2.366667</td>\n",
       "      <td>296.700000</td>\n",
       "      <td>277.904348</td>\n",
       "      <td>862.400000</td>\n",
       "    </tr>\n",
       "    <tr>\n",
       "      <th>1901</th>\n",
       "      <td>2.030000</td>\n",
       "      <td>296.066667</td>\n",
       "      <td>278.169565</td>\n",
       "      <td>868.400000</td>\n",
       "    </tr>\n",
       "    <tr>\n",
       "      <th>1902</th>\n",
       "      <td>1.930000</td>\n",
       "      <td>295.433333</td>\n",
       "      <td>278.434783</td>\n",
       "      <td>871.672222</td>\n",
       "    </tr>\n",
       "    <tr>\n",
       "      <th>1903</th>\n",
       "      <td>1.840000</td>\n",
       "      <td>294.800000</td>\n",
       "      <td>278.700000</td>\n",
       "      <td>874.944444</td>\n",
       "    </tr>\n",
       "    <tr>\n",
       "      <th>1904</th>\n",
       "      <td>1.760000</td>\n",
       "      <td>296.175000</td>\n",
       "      <td>278.852941</td>\n",
       "      <td>878.216667</td>\n",
       "    </tr>\n",
       "  </tbody>\n",
       "</table>\n",
       "</div>"
      ],
      "text/plain": [
       "                             Temp interpolated  CO2 interpolated  \\\n",
       "Year (negative values = BC)                                        \n",
       "1900                                  2.366667        296.700000   \n",
       "1901                                  2.030000        296.066667   \n",
       "1902                                  1.930000        295.433333   \n",
       "1903                                  1.840000        294.800000   \n",
       "1904                                  1.760000        296.175000   \n",
       "\n",
       "                             N2O interpolated  Methane interpolated  \n",
       "Year (negative values = BC)                                          \n",
       "1900                               277.904348            862.400000  \n",
       "1901                               278.169565            868.400000  \n",
       "1902                               278.434783            871.672222  \n",
       "1903                               278.700000            874.944444  \n",
       "1904                               278.852941            878.216667  "
      ]
     },
     "execution_count": 198,
     "metadata": {},
     "output_type": "execute_result"
    }
   ],
   "source": [
    "dataset.head()"
   ]
  },
  {
   "cell_type": "code",
   "execution_count": 199,
   "metadata": {},
   "outputs": [],
   "source": [
    "# decide on a train and test dataset\n",
    "# let's test on the last 50 years of data and train on all the rest...\n",
    "train = dataset[dataset.index < 2000]"
   ]
  },
  {
   "cell_type": "code",
   "execution_count": 200,
   "metadata": {},
   "outputs": [],
   "source": [
    "test = dataset[dataset.index > 1999]"
   ]
  },
  {
   "cell_type": "code",
   "execution_count": 201,
   "metadata": {},
   "outputs": [],
   "source": [
    "# split into input and outputs\n",
    "X, y = dataset.drop(\"Temp interpolated\", axis=1), dataset['Temp interpolated']\n",
    "X_train, y_train = train.drop(\"Temp interpolated\", axis=1), train['Temp interpolated']\n",
    "X_test, y_test = test.drop(\"Temp interpolated\", axis=1), test['Temp interpolated']"
   ]
  },
  {
   "cell_type": "code",
   "execution_count": 202,
   "metadata": {},
   "outputs": [],
   "source": [
    "# scale the data\n",
    "from sklearn.preprocessing import StandardScaler\n",
    "X_scaler = StandardScaler().fit(X_train)\n",
    "\n",
    "X_train_scaled = X_scaler.transform(X_train)\n",
    "X_test_scaled = X_scaler.transform(X_test)\n",
    "X_scaled = X_scaler.transform(X)"
   ]
  },
  {
   "cell_type": "code",
   "execution_count": 203,
   "metadata": {},
   "outputs": [
    {
     "name": "stdout",
     "output_type": "stream",
     "text": [
      "(101, 1, 3) (101,) (16, 1, 3) (16,) (117, 1, 3) (117,)\n"
     ]
    }
   ],
   "source": [
    "# reshape input to be 3D [samples, timesteps, features]\n",
    "X_train_scaled = X_train_scaled.reshape((X_train_scaled.shape[0], 1, X_train_scaled.shape[1]))\n",
    "X_test_scaled = X_test_scaled.reshape((X_test_scaled.shape[0], 1, X_test_scaled.shape[1]))\n",
    "X_scaled = X_scaled.reshape((X_scaled.shape[0], 1, X_scaled.shape[1]))\n",
    "print(X_train_scaled.shape, y_train.shape, X_test_scaled.shape, y_test.shape, X_scaled.shape, y.shape)"
   ]
  },
  {
   "cell_type": "code",
   "execution_count": 204,
   "metadata": {},
   "outputs": [],
   "source": [
    "import tensorflow as tf\n",
    "from tensorflow.keras.models import Sequential\n",
    "from tensorflow.keras.utils import to_categorical\n",
    "from tensorflow.keras.layers import Dense, LSTM"
   ]
  },
  {
   "cell_type": "code",
   "execution_count": 205,
   "metadata": {},
   "outputs": [
    {
     "name": "stdout",
     "output_type": "stream",
     "text": [
      "Train on 101 samples, validate on 16 samples\n",
      "Epoch 1/100\n",
      "101/101 - 7s - loss: 4.7702 - val_loss: 7.6192\n",
      "Epoch 2/100\n",
      "101/101 - 0s - loss: 4.6590 - val_loss: 7.4544\n",
      "Epoch 3/100\n",
      "101/101 - 0s - loss: 4.5547 - val_loss: 7.2859\n",
      "Epoch 4/100\n",
      "101/101 - 0s - loss: 4.4508 - val_loss: 7.1155\n",
      "Epoch 5/100\n",
      "101/101 - 0s - loss: 4.3458 - val_loss: 6.9420\n",
      "Epoch 6/100\n",
      "101/101 - 0s - loss: 4.2389 - val_loss: 6.7639\n",
      "Epoch 7/100\n",
      "101/101 - 0s - loss: 4.1293 - val_loss: 6.5805\n",
      "Epoch 8/100\n",
      "101/101 - 0s - loss: 4.0164 - val_loss: 6.3910\n",
      "Epoch 9/100\n",
      "101/101 - 0s - loss: 3.9001 - val_loss: 6.1954\n",
      "Epoch 10/100\n",
      "101/101 - 0s - loss: 3.7799 - val_loss: 5.9937\n",
      "Epoch 11/100\n",
      "101/101 - 0s - loss: 3.6559 - val_loss: 5.7861\n",
      "Epoch 12/100\n",
      "101/101 - 0s - loss: 3.5277 - val_loss: 5.5731\n",
      "Epoch 13/100\n",
      "101/101 - 0s - loss: 3.3955 - val_loss: 5.3546\n",
      "Epoch 14/100\n",
      "101/101 - 0s - loss: 3.2595 - val_loss: 5.1310\n",
      "Epoch 15/100\n",
      "101/101 - 0s - loss: 3.1198 - val_loss: 4.9030\n",
      "Epoch 16/100\n",
      "101/101 - 0s - loss: 2.9767 - val_loss: 4.6733\n",
      "Epoch 17/100\n",
      "101/101 - 0s - loss: 2.8306 - val_loss: 4.4427\n",
      "Epoch 18/100\n",
      "101/101 - 0s - loss: 2.6820 - val_loss: 4.2129\n",
      "Epoch 19/100\n",
      "101/101 - 0s - loss: 2.5314 - val_loss: 3.9846\n",
      "Epoch 20/100\n",
      "101/101 - 0s - loss: 2.3797 - val_loss: 3.7591\n",
      "Epoch 21/100\n",
      "101/101 - 0s - loss: 2.2274 - val_loss: 3.5370\n",
      "Epoch 22/100\n",
      "101/101 - 0s - loss: 2.0756 - val_loss: 3.3207\n",
      "Epoch 23/100\n",
      "101/101 - 0s - loss: 1.9250 - val_loss: 3.1113\n",
      "Epoch 24/100\n",
      "101/101 - 0s - loss: 1.7767 - val_loss: 2.9089\n",
      "Epoch 25/100\n",
      "101/101 - 0s - loss: 1.6315 - val_loss: 2.7150\n",
      "Epoch 26/100\n",
      "101/101 - 0s - loss: 1.4906 - val_loss: 2.5282\n",
      "Epoch 27/100\n",
      "101/101 - 0s - loss: 1.3553 - val_loss: 2.3487\n",
      "Epoch 28/100\n",
      "101/101 - 0s - loss: 1.2264 - val_loss: 2.1769\n",
      "Epoch 29/100\n",
      "101/101 - 0s - loss: 1.1042 - val_loss: 2.0130\n",
      "Epoch 30/100\n",
      "101/101 - 0s - loss: 0.9895 - val_loss: 1.8575\n",
      "Epoch 31/100\n",
      "101/101 - 0s - loss: 0.8828 - val_loss: 1.7106\n",
      "Epoch 32/100\n",
      "101/101 - 0s - loss: 0.7843 - val_loss: 1.5724\n",
      "Epoch 33/100\n",
      "101/101 - 0s - loss: 0.6944 - val_loss: 1.4427\n",
      "Epoch 34/100\n",
      "101/101 - 0s - loss: 0.6131 - val_loss: 1.3218\n",
      "Epoch 35/100\n",
      "101/101 - 0s - loss: 0.5404 - val_loss: 1.2094\n",
      "Epoch 36/100\n",
      "101/101 - 0s - loss: 0.4760 - val_loss: 1.1049\n",
      "Epoch 37/100\n",
      "101/101 - 0s - loss: 0.4197 - val_loss: 1.0079\n",
      "Epoch 38/100\n",
      "101/101 - 0s - loss: 0.3708 - val_loss: 0.9183\n",
      "Epoch 39/100\n",
      "101/101 - 0s - loss: 0.3286 - val_loss: 0.8356\n",
      "Epoch 40/100\n",
      "101/101 - 0s - loss: 0.2923 - val_loss: 0.7594\n",
      "Epoch 41/100\n",
      "101/101 - 0s - loss: 0.2612 - val_loss: 0.6895\n",
      "Epoch 42/100\n",
      "101/101 - 0s - loss: 0.2346 - val_loss: 0.6253\n",
      "Epoch 43/100\n",
      "101/101 - 0s - loss: 0.2117 - val_loss: 0.5664\n",
      "Epoch 44/100\n",
      "101/101 - 0s - loss: 0.1920 - val_loss: 0.5125\n",
      "Epoch 45/100\n",
      "101/101 - 0s - loss: 0.1750 - val_loss: 0.4633\n",
      "Epoch 46/100\n",
      "101/101 - 0s - loss: 0.1601 - val_loss: 0.4182\n",
      "Epoch 47/100\n",
      "101/101 - 0s - loss: 0.1470 - val_loss: 0.3770\n",
      "Epoch 48/100\n",
      "101/101 - 0s - loss: 0.1354 - val_loss: 0.3395\n",
      "Epoch 49/100\n",
      "101/101 - 0s - loss: 0.1250 - val_loss: 0.3052\n",
      "Epoch 50/100\n",
      "101/101 - 0s - loss: 0.1157 - val_loss: 0.2740\n",
      "Epoch 51/100\n",
      "101/101 - 0s - loss: 0.1073 - val_loss: 0.2456\n",
      "Epoch 52/100\n",
      "101/101 - 0s - loss: 0.0997 - val_loss: 0.2199\n",
      "Epoch 53/100\n",
      "101/101 - 0s - loss: 0.0929 - val_loss: 0.1966\n",
      "Epoch 54/100\n",
      "101/101 - 0s - loss: 0.0868 - val_loss: 0.1755\n",
      "Epoch 55/100\n",
      "101/101 - 0s - loss: 0.0812 - val_loss: 0.1566\n",
      "Epoch 56/100\n",
      "101/101 - 0s - loss: 0.0762 - val_loss: 0.1396\n",
      "Epoch 57/100\n",
      "101/101 - 0s - loss: 0.0718 - val_loss: 0.1244\n",
      "Epoch 58/100\n",
      "101/101 - 0s - loss: 0.0677 - val_loss: 0.1109\n",
      "Epoch 59/100\n",
      "101/101 - 0s - loss: 0.0642 - val_loss: 0.0989\n",
      "Epoch 60/100\n",
      "101/101 - 0s - loss: 0.0609 - val_loss: 0.0884\n",
      "Epoch 61/100\n",
      "101/101 - 0s - loss: 0.0581 - val_loss: 0.0792\n",
      "Epoch 62/100\n",
      "101/101 - 0s - loss: 0.0555 - val_loss: 0.0712\n",
      "Epoch 63/100\n",
      "101/101 - 0s - loss: 0.0533 - val_loss: 0.0642\n",
      "Epoch 64/100\n",
      "101/101 - 0s - loss: 0.0513 - val_loss: 0.0581\n",
      "Epoch 65/100\n",
      "101/101 - 0s - loss: 0.0495 - val_loss: 0.0529\n",
      "Epoch 66/100\n",
      "101/101 - 0s - loss: 0.0479 - val_loss: 0.0484\n",
      "Epoch 67/100\n",
      "101/101 - 0s - loss: 0.0465 - val_loss: 0.0446\n",
      "Epoch 68/100\n",
      "101/101 - 0s - loss: 0.0452 - val_loss: 0.0413\n",
      "Epoch 69/100\n",
      "101/101 - 0s - loss: 0.0440 - val_loss: 0.0385\n",
      "Epoch 70/100\n",
      "101/101 - 0s - loss: 0.0430 - val_loss: 0.0361\n",
      "Epoch 71/100\n",
      "101/101 - 0s - loss: 0.0420 - val_loss: 0.0341\n",
      "Epoch 72/100\n",
      "101/101 - 0s - loss: 0.0412 - val_loss: 0.0325\n",
      "Epoch 73/100\n",
      "101/101 - 0s - loss: 0.0404 - val_loss: 0.0311\n",
      "Epoch 74/100\n",
      "101/101 - 0s - loss: 0.0397 - val_loss: 0.0299\n",
      "Epoch 75/100\n",
      "101/101 - 0s - loss: 0.0390 - val_loss: 0.0290\n",
      "Epoch 76/100\n",
      "101/101 - 0s - loss: 0.0383 - val_loss: 0.0283\n",
      "Epoch 77/100\n",
      "101/101 - 0s - loss: 0.0378 - val_loss: 0.0277\n",
      "Epoch 78/100\n",
      "101/101 - 0s - loss: 0.0372 - val_loss: 0.0272\n",
      "Epoch 79/100\n",
      "101/101 - 0s - loss: 0.0366 - val_loss: 0.0270\n",
      "Epoch 80/100\n",
      "101/101 - 0s - loss: 0.0361 - val_loss: 0.0268\n",
      "Epoch 81/100\n",
      "101/101 - 0s - loss: 0.0356 - val_loss: 0.0267\n",
      "Epoch 82/100\n",
      "101/101 - 0s - loss: 0.0352 - val_loss: 0.0267\n",
      "Epoch 83/100\n",
      "101/101 - 0s - loss: 0.0347 - val_loss: 0.0267\n",
      "Epoch 84/100\n",
      "101/101 - 0s - loss: 0.0343 - val_loss: 0.0269\n",
      "Epoch 85/100\n",
      "101/101 - 0s - loss: 0.0338 - val_loss: 0.0271\n",
      "Epoch 86/100\n",
      "101/101 - 0s - loss: 0.0334 - val_loss: 0.0273\n",
      "Epoch 87/100\n",
      "101/101 - 0s - loss: 0.0330 - val_loss: 0.0276\n",
      "Epoch 88/100\n",
      "101/101 - 0s - loss: 0.0326 - val_loss: 0.0279\n",
      "Epoch 89/100\n",
      "101/101 - 0s - loss: 0.0322 - val_loss: 0.0283\n",
      "Epoch 90/100\n",
      "101/101 - 0s - loss: 0.0319 - val_loss: 0.0287\n",
      "Epoch 91/100\n",
      "101/101 - 0s - loss: 0.0315 - val_loss: 0.0291\n",
      "Epoch 92/100\n",
      "101/101 - 0s - loss: 0.0311 - val_loss: 0.0296\n",
      "Epoch 93/100\n",
      "101/101 - 0s - loss: 0.0308 - val_loss: 0.0301\n",
      "Epoch 94/100\n",
      "101/101 - 0s - loss: 0.0304 - val_loss: 0.0306\n",
      "Epoch 95/100\n",
      "101/101 - 0s - loss: 0.0301 - val_loss: 0.0311\n",
      "Epoch 96/100\n",
      "101/101 - 0s - loss: 0.0298 - val_loss: 0.0317\n",
      "Epoch 97/100\n",
      "101/101 - 0s - loss: 0.0294 - val_loss: 0.0323\n",
      "Epoch 98/100\n",
      "101/101 - 0s - loss: 0.0291 - val_loss: 0.0329\n",
      "Epoch 99/100\n",
      "101/101 - 0s - loss: 0.0288 - val_loss: 0.0335\n",
      "Epoch 100/100\n",
      "101/101 - 0s - loss: 0.0285 - val_loss: 0.0341\n"
     ]
    }
   ],
   "source": [
    "model = Sequential()\n",
    "model.add(LSTM(5, input_shape=(X_train_scaled.shape[1], X_train_scaled.shape[2]), return_sequences=True))\n",
    "model.add(LSTM(5))\n",
    "model.add(Dense(1))\n",
    "model.compile(loss='mse', optimizer='adam')\n",
    "# fit network\n",
    "history = model.fit(X_train_scaled, y_train, epochs=100, batch_size=10, validation_data=(X_test_scaled, y_test), verbose=2, shuffle=False)\n"
   ]
  },
  {
   "cell_type": "code",
   "execution_count": 206,
   "metadata": {},
   "outputs": [
    {
     "data": {
      "image/png": "[encoded data removed]",
      "text/plain": [
       "<Figure size 432x288 with 1 Axes>"
      ]
     },
     "metadata": {
      "needs_background": "light"
     },
     "output_type": "display_data"
    }
   ],
   "source": [
    "# plot history\n",
    "plt.plot(history.history['loss'], label='train')\n",
    "plt.plot(history.history['val_loss'], label='test')\n",
    "plt.legend()\n",
    "plt.savefig('lstm loss.png')"
   ]
  },
  {
   "cell_type": "code",
   "execution_count": 207,
   "metadata": {},
   "outputs": [
    {
     "data": {
      "text/plain": [
       "[<matplotlib.lines.Line2D at 0x249203dd7b8>]"
      ]
     },
     "execution_count": 207,
     "metadata": {},
     "output_type": "execute_result"
    },
    {
     "data": {
      "image/png": "[encoded data removed]",
      "text/plain": [
       "<Figure size 432x288 with 1 Axes>"
      ]
     },
     "metadata": {
      "needs_background": "light"
     },
     "output_type": "display_data"
    }
   ],
   "source": [
    "plt.plot(dataset['Temp interpolated'], 'b.')\n",
    "plt.plot(y_train.index, model.predict(X_train_scaled),'r.')\n",
    "plt.plot(y_test.index, model.predict(X_test_scaled),'r.')"
   ]
  },
  {
   "cell_type": "code",
   "execution_count": 208,
   "metadata": {},
   "outputs": [
    {
     "name": "stdout",
     "output_type": "stream",
     "text": [
      "117/117 [==============================] - 0s 102us/sample - loss: 0.0289\n",
      "0.02891914242416875\n"
     ]
    }
   ],
   "source": [
    "loss = model.evaluate(X_scaled, y)\n",
    "print(loss)"
   ]
  },
  {
   "cell_type": "code",
   "execution_count": 209,
   "metadata": {},
   "outputs": [
    {
     "data": {
      "text/html": [
       "<div>\n",
       "<style scoped>\n",
       "    .dataframe tbody tr th:only-of-type {\n",
       "        vertical-align: middle;\n",
       "    }\n",
       "\n",
       "    .dataframe tbody tr th {\n",
       "        vertical-align: top;\n",
       "    }\n",
       "\n",
       "    .dataframe thead th {\n",
       "        text-align: right;\n",
       "    }\n",
       "</style>\n",
       "<table border=\"1\" class=\"dataframe\">\n",
       "  <thead>\n",
       "    <tr style=\"text-align: right;\">\n",
       "      <th></th>\n",
       "      <th>CO2 interpolated</th>\n",
       "      <th>N2O interpolated</th>\n",
       "      <th>Methane interpolated</th>\n",
       "    </tr>\n",
       "    <tr>\n",
       "      <th>Years Predicted</th>\n",
       "      <th></th>\n",
       "      <th></th>\n",
       "      <th></th>\n",
       "    </tr>\n",
       "  </thead>\n",
       "  <tbody>\n",
       "    <tr>\n",
       "      <th>2016</th>\n",
       "      <td>400.958502</td>\n",
       "      <td>328.381230</td>\n",
       "      <td>1798.461159</td>\n",
       "    </tr>\n",
       "    <tr>\n",
       "      <th>2017</th>\n",
       "      <td>402.955437</td>\n",
       "      <td>329.215947</td>\n",
       "      <td>1800.653256</td>\n",
       "    </tr>\n",
       "    <tr>\n",
       "      <th>2018</th>\n",
       "      <td>404.952371</td>\n",
       "      <td>330.050663</td>\n",
       "      <td>1802.845353</td>\n",
       "    </tr>\n",
       "    <tr>\n",
       "      <th>2019</th>\n",
       "      <td>406.949306</td>\n",
       "      <td>330.885379</td>\n",
       "      <td>1805.037450</td>\n",
       "    </tr>\n",
       "    <tr>\n",
       "      <th>2020</th>\n",
       "      <td>408.946240</td>\n",
       "      <td>331.720095</td>\n",
       "      <td>1807.229547</td>\n",
       "    </tr>\n",
       "  </tbody>\n",
       "</table>\n",
       "</div>"
      ],
      "text/plain": [
       "                 CO2 interpolated  N2O interpolated  Methane interpolated\n",
       "Years Predicted                                                          \n",
       "2016                   400.958502        328.381230           1798.461159\n",
       "2017                   402.955437        329.215947           1800.653256\n",
       "2018                   404.952371        330.050663           1802.845353\n",
       "2019                   406.949306        330.885379           1805.037450\n",
       "2020                   408.946240        331.720095           1807.229547"
      ]
     },
     "execution_count": 209,
     "metadata": {},
     "output_type": "execute_result"
    }
   ],
   "source": [
    "X_predict_20 = pd.read_csv('predicted_greenhouse_20.csv').set_index('Years Predicted')\n",
    "X_predict_100 = pd.read_csv('predicted_greenhouse_100.csv').set_index('Years Predicted')\n",
    "X_predict_100.drop(X_predict_100.columns[[0]], axis=1, inplace=True)\n",
    "X_predict_20.drop(X_predict_20.columns[[0]], axis=1, inplace=True)\n",
    "X_predict_20.head()"
   ]
  },
  {
   "cell_type": "code",
   "execution_count": 210,
   "metadata": {},
   "outputs": [],
   "source": [
    "X_predict_20_scaled = X_scaler.transform(X_predict_20)\n",
    "X_predict_100_scaled = X_scaler.transform(X_predict_100)"
   ]
  },
  {
   "cell_type": "code",
   "execution_count": 211,
   "metadata": {},
   "outputs": [
    {
     "name": "stdout",
     "output_type": "stream",
     "text": [
      "(10, 1, 3) (10, 1, 3)\n"
     ]
    }
   ],
   "source": [
    "# reshape input to be 3D [samples, timesteps, features]\n",
    "X_predict_20_scaled = X_predict_20_scaled.reshape((X_predict_20_scaled.shape[0], 1, X_predict_20_scaled.shape[1]))\n",
    "X_predict_100_scaled = X_predict_100_scaled.reshape((X_predict_100_scaled.shape[0], 1, X_predict_100_scaled.shape[1]))\n",
    "print(X_predict_20_scaled.shape, X_predict_100_scaled.shape)"
   ]
  },
  {
   "cell_type": "code",
   "execution_count": 212,
   "metadata": {},
   "outputs": [
    {
     "data": {
      "image/png": "[encoded data removed]",
      "text/plain": [
       "<Figure size 432x288 with 1 Axes>"
      ]
     },
     "metadata": {
      "needs_background": "light"
     },
     "output_type": "display_data"
    }
   ],
   "source": [
    "plt.plot(dataset['Temp interpolated'], label='observed')\n",
    "plt.plot(y.index, model.predict(X_scaled),'y.', label='model')\n",
    "plt.plot(X_predict_20.index, model.predict(X_predict_20_scaled), 'r.', label='prediction based on 20 years')\n",
    "plt.plot(X_predict_100.index, model.predict(X_predict_100_scaled), 'b.', label='prediction based on 100 years')\n",
    "plt.legend()\n",
    "plt.title('LSTM Model Results')\n",
    "plt.savefig('future_prediction_deep_recent.png')"
   ]
  },
  {
   "cell_type": "code",
   "execution_count": null,
   "metadata": {},
   "outputs": [],
   "source": []
  },
  {
   "cell_type": "code",
   "execution_count": null,
   "metadata": {},
   "outputs": [],
   "source": []
  }
 ],
 "metadata": {
  "kernelspec": {
   "display_name": "Python 3",
   "language": "python",
   "name": "python3"
  },
  "language_info": {
   "codemirror_mode": {
    "name": "ipython",
    "version": 3
   },
   "file_extension": ".py",
   "mimetype": "text/x-python",
   "name": "python",
   "nbconvert_exporter": "python",
   "pygments_lexer": "ipython3",
   "version": "3.6.7"
  }
 },
 "nbformat": 4,
 "nbformat_minor": 2
}
